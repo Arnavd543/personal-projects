{
 "cells": [
  {
   "cell_type": "code",
   "execution_count": 2,
   "id": "64d2ffba",
   "metadata": {},
   "outputs": [],
   "source": [
    "import pandas as pd"
   ]
  },
  {
   "cell_type": "code",
   "execution_count": 3,
   "id": "9ac32af5",
   "metadata": {},
   "outputs": [],
   "source": [
    "chd_df = pd.read_csv(\"C:/Users/arnav/Downloads/Arnav/Misc/Code/AIMLcourse/SAHeart.csv\")"
   ]
  },
  {
   "cell_type": "code",
   "execution_count": 4,
   "id": "52fc352e",
   "metadata": {},
   "outputs": [
    {
     "data": {
      "text/html": [
       "<div>\n",
       "<style scoped>\n",
       "    .dataframe tbody tr th:only-of-type {\n",
       "        vertical-align: middle;\n",
       "    }\n",
       "\n",
       "    .dataframe tbody tr th {\n",
       "        vertical-align: top;\n",
       "    }\n",
       "\n",
       "    .dataframe thead th {\n",
       "        text-align: right;\n",
       "    }\n",
       "</style>\n",
       "<table border=\"1\" class=\"dataframe\">\n",
       "  <thead>\n",
       "    <tr style=\"text-align: right;\">\n",
       "      <th></th>\n",
       "      <th>row.names</th>\n",
       "      <th>sbp</th>\n",
       "      <th>tobacco</th>\n",
       "      <th>ldl</th>\n",
       "      <th>adiposity</th>\n",
       "      <th>famhist</th>\n",
       "      <th>typea</th>\n",
       "      <th>obesity</th>\n",
       "      <th>alcohol</th>\n",
       "      <th>age</th>\n",
       "      <th>chd</th>\n",
       "    </tr>\n",
       "  </thead>\n",
       "  <tbody>\n",
       "    <tr>\n",
       "      <th>0</th>\n",
       "      <td>1</td>\n",
       "      <td>160</td>\n",
       "      <td>12.00</td>\n",
       "      <td>5.73</td>\n",
       "      <td>23.11</td>\n",
       "      <td>Present</td>\n",
       "      <td>49</td>\n",
       "      <td>25.30</td>\n",
       "      <td>97.20</td>\n",
       "      <td>52</td>\n",
       "      <td>1</td>\n",
       "    </tr>\n",
       "    <tr>\n",
       "      <th>1</th>\n",
       "      <td>2</td>\n",
       "      <td>144</td>\n",
       "      <td>0.01</td>\n",
       "      <td>4.41</td>\n",
       "      <td>28.61</td>\n",
       "      <td>Absent</td>\n",
       "      <td>55</td>\n",
       "      <td>28.87</td>\n",
       "      <td>2.06</td>\n",
       "      <td>63</td>\n",
       "      <td>1</td>\n",
       "    </tr>\n",
       "    <tr>\n",
       "      <th>2</th>\n",
       "      <td>3</td>\n",
       "      <td>118</td>\n",
       "      <td>0.08</td>\n",
       "      <td>3.48</td>\n",
       "      <td>32.28</td>\n",
       "      <td>Present</td>\n",
       "      <td>52</td>\n",
       "      <td>29.14</td>\n",
       "      <td>3.81</td>\n",
       "      <td>46</td>\n",
       "      <td>0</td>\n",
       "    </tr>\n",
       "    <tr>\n",
       "      <th>3</th>\n",
       "      <td>4</td>\n",
       "      <td>170</td>\n",
       "      <td>7.50</td>\n",
       "      <td>6.41</td>\n",
       "      <td>38.03</td>\n",
       "      <td>Present</td>\n",
       "      <td>51</td>\n",
       "      <td>31.99</td>\n",
       "      <td>24.26</td>\n",
       "      <td>58</td>\n",
       "      <td>1</td>\n",
       "    </tr>\n",
       "    <tr>\n",
       "      <th>4</th>\n",
       "      <td>5</td>\n",
       "      <td>134</td>\n",
       "      <td>13.60</td>\n",
       "      <td>3.50</td>\n",
       "      <td>27.78</td>\n",
       "      <td>Present</td>\n",
       "      <td>60</td>\n",
       "      <td>25.99</td>\n",
       "      <td>57.34</td>\n",
       "      <td>49</td>\n",
       "      <td>1</td>\n",
       "    </tr>\n",
       "    <tr>\n",
       "      <th>5</th>\n",
       "      <td>6</td>\n",
       "      <td>132</td>\n",
       "      <td>6.20</td>\n",
       "      <td>6.47</td>\n",
       "      <td>36.21</td>\n",
       "      <td>Present</td>\n",
       "      <td>62</td>\n",
       "      <td>30.77</td>\n",
       "      <td>14.14</td>\n",
       "      <td>45</td>\n",
       "      <td>0</td>\n",
       "    </tr>\n",
       "    <tr>\n",
       "      <th>6</th>\n",
       "      <td>7</td>\n",
       "      <td>142</td>\n",
       "      <td>4.05</td>\n",
       "      <td>3.38</td>\n",
       "      <td>16.20</td>\n",
       "      <td>Absent</td>\n",
       "      <td>59</td>\n",
       "      <td>20.81</td>\n",
       "      <td>2.62</td>\n",
       "      <td>38</td>\n",
       "      <td>0</td>\n",
       "    </tr>\n",
       "    <tr>\n",
       "      <th>7</th>\n",
       "      <td>8</td>\n",
       "      <td>114</td>\n",
       "      <td>4.08</td>\n",
       "      <td>4.59</td>\n",
       "      <td>14.60</td>\n",
       "      <td>Present</td>\n",
       "      <td>62</td>\n",
       "      <td>23.11</td>\n",
       "      <td>6.72</td>\n",
       "      <td>58</td>\n",
       "      <td>1</td>\n",
       "    </tr>\n",
       "    <tr>\n",
       "      <th>8</th>\n",
       "      <td>9</td>\n",
       "      <td>114</td>\n",
       "      <td>0.00</td>\n",
       "      <td>3.83</td>\n",
       "      <td>19.40</td>\n",
       "      <td>Present</td>\n",
       "      <td>49</td>\n",
       "      <td>24.86</td>\n",
       "      <td>2.49</td>\n",
       "      <td>29</td>\n",
       "      <td>0</td>\n",
       "    </tr>\n",
       "    <tr>\n",
       "      <th>9</th>\n",
       "      <td>10</td>\n",
       "      <td>132</td>\n",
       "      <td>0.00</td>\n",
       "      <td>5.80</td>\n",
       "      <td>30.96</td>\n",
       "      <td>Present</td>\n",
       "      <td>69</td>\n",
       "      <td>30.11</td>\n",
       "      <td>0.00</td>\n",
       "      <td>53</td>\n",
       "      <td>1</td>\n",
       "    </tr>\n",
       "  </tbody>\n",
       "</table>\n",
       "</div>"
      ],
      "text/plain": [
       "   row.names  sbp  tobacco   ldl  adiposity  famhist  typea  obesity  alcohol  \\\n",
       "0          1  160    12.00  5.73      23.11  Present     49    25.30    97.20   \n",
       "1          2  144     0.01  4.41      28.61   Absent     55    28.87     2.06   \n",
       "2          3  118     0.08  3.48      32.28  Present     52    29.14     3.81   \n",
       "3          4  170     7.50  6.41      38.03  Present     51    31.99    24.26   \n",
       "4          5  134    13.60  3.50      27.78  Present     60    25.99    57.34   \n",
       "5          6  132     6.20  6.47      36.21  Present     62    30.77    14.14   \n",
       "6          7  142     4.05  3.38      16.20   Absent     59    20.81     2.62   \n",
       "7          8  114     4.08  4.59      14.60  Present     62    23.11     6.72   \n",
       "8          9  114     0.00  3.83      19.40  Present     49    24.86     2.49   \n",
       "9         10  132     0.00  5.80      30.96  Present     69    30.11     0.00   \n",
       "\n",
       "   age  chd  \n",
       "0   52    1  \n",
       "1   63    1  \n",
       "2   46    0  \n",
       "3   58    1  \n",
       "4   49    1  \n",
       "5   45    0  \n",
       "6   38    0  \n",
       "7   58    1  \n",
       "8   29    0  \n",
       "9   53    1  "
      ]
     },
     "execution_count": 4,
     "metadata": {},
     "output_type": "execute_result"
    }
   ],
   "source": [
    "chd_df.head(10)"
   ]
  },
  {
   "cell_type": "code",
   "execution_count": 5,
   "id": "3d936f18",
   "metadata": {},
   "outputs": [
    {
     "name": "stdout",
     "output_type": "stream",
     "text": [
      "<class 'pandas.core.frame.DataFrame'>\n",
      "RangeIndex: 462 entries, 0 to 461\n",
      "Data columns (total 11 columns):\n",
      " #   Column     Non-Null Count  Dtype  \n",
      "---  ------     --------------  -----  \n",
      " 0   row.names  462 non-null    int64  \n",
      " 1   sbp        462 non-null    int64  \n",
      " 2   tobacco    462 non-null    float64\n",
      " 3   ldl        462 non-null    float64\n",
      " 4   adiposity  462 non-null    float64\n",
      " 5   famhist    462 non-null    object \n",
      " 6   typea      462 non-null    int64  \n",
      " 7   obesity    462 non-null    float64\n",
      " 8   alcohol    462 non-null    float64\n",
      " 9   age        462 non-null    int64  \n",
      " 10  chd        462 non-null    int64  \n",
      "dtypes: float64(5), int64(5), object(1)\n",
      "memory usage: 39.8+ KB\n"
     ]
    }
   ],
   "source": [
    "chd_df.info()"
   ]
  },
  {
   "cell_type": "code",
   "execution_count": 6,
   "id": "9bfbc9cc",
   "metadata": {},
   "outputs": [
    {
     "data": {
      "text/plain": [
       "0    302\n",
       "1    160\n",
       "Name: chd, dtype: int64"
      ]
     },
     "execution_count": 6,
     "metadata": {},
     "output_type": "execute_result"
    }
   ],
   "source": [
    "chd_df.chd.value_counts()"
   ]
  },
  {
   "cell_type": "code",
   "execution_count": 7,
   "id": "1d96a600",
   "metadata": {},
   "outputs": [],
   "source": [
    "import matplotlib.pyplot as plt\n",
    "import seaborn as sn"
   ]
  },
  {
   "cell_type": "code",
   "execution_count": 8,
   "id": "0bddd711",
   "metadata": {},
   "outputs": [
    {
     "data": {
      "text/plain": [
       "<AxesSubplot:xlabel='chd', ylabel='count'>"
      ]
     },
     "execution_count": 8,
     "metadata": {},
     "output_type": "execute_result"
    },
    {
     "data": {
      "image/png": "[encoded data removed]",
      "text/plain": [
       "<Figure size 640x480 with 1 Axes>"
      ]
     },
     "metadata": {},
     "output_type": "display_data"
    }
   ],
   "source": [
    "sn.countplot( data = chd_df,\n",
    "            x = 'chd')"
   ]
  },
  {
   "cell_type": "code",
   "execution_count": 10,
   "id": "c8fdb3ba",
   "metadata": {},
   "outputs": [
    {
     "data": {
      "text/plain": [
       "<AxesSubplot:xlabel='tobacco', ylabel='Density'>"
      ]
     },
     "execution_count": 10,
     "metadata": {},
     "output_type": "execute_result"
    },
    {
     "data": {
      "image/png": "[encoded data removed]",
      "text/plain": [
       "<Figure size 640x480 with 1 Axes>"
      ]
     },
     "metadata": {},
     "output_type": "display_data"
    }
   ],
   "source": [
    "sn.kdeplot(data = chd_df, x = \"tobacco\")"
   ]
  },
  {
   "cell_type": "code",
   "execution_count": 15,
   "id": "78821d33",
   "metadata": {},
   "outputs": [],
   "source": [
    "yes_chd = chd_df[chd_df.chd == 1]\n",
    "no_chd = chd_df[chd_df.chd == 0]"
   ]
  },
  {
   "cell_type": "code",
   "execution_count": 18,
   "id": "2e180b1e",
   "metadata": {},
   "outputs": [
    {
     "data": {
      "image/png": "[encoded data removed]",
      "text/plain": [
       "<Figure size 640x480 with 1 Axes>"
      ]
     },
     "metadata": {},
     "output_type": "display_data"
    }
   ],
   "source": [
    "sn.kdeplot(data = yes_chd, x = 'tobacco', label = 'CHD')\n",
    "sn.kdeplot(data = no_chd, x = 'tobacco', label = 'NO CHD')\n",
    "plt.legend();"
   ]
  },
  {
   "cell_type": "code",
   "execution_count": 19,
   "id": "cb70911a",
   "metadata": {},
   "outputs": [
    {
     "data": {
      "text/plain": [
       "5.524874999999999"
      ]
     },
     "execution_count": 19,
     "metadata": {},
     "output_type": "execute_result"
    }
   ],
   "source": [
    "yes_chd.tobacco.mean()"
   ]
  },
  {
   "cell_type": "code",
   "execution_count": 20,
   "id": "8a88d7a2",
   "metadata": {},
   "outputs": [
    {
     "data": {
      "text/plain": [
       "2.63473509933775"
      ]
     },
     "execution_count": 20,
     "metadata": {},
     "output_type": "execute_result"
    }
   ],
   "source": [
    "no_chd.tobacco.mean()"
   ]
  },
  {
   "cell_type": "markdown",
   "id": "2623bc4e",
   "metadata": {},
   "source": [
    "- H0: Tobacco _CHD = Tobacco_NO_CHD\n",
    "- H1: Tobacco _CHD <> Tobacco_NO_CHD"
   ]
  },
  {
   "cell_type": "code",
   "execution_count": 23,
   "id": "ffed0abd",
   "metadata": {},
   "outputs": [],
   "source": [
    "from scipy import stats"
   ]
  },
  {
   "cell_type": "code",
   "execution_count": 24,
   "id": "702ac363",
   "metadata": {},
   "outputs": [
    {
     "data": {
      "text/plain": [
       "Ttest_indResult(statistic=6.737983717964519, pvalue=4.815842571605575e-11)"
      ]
     },
     "execution_count": 24,
     "metadata": {},
     "output_type": "execute_result"
    }
   ],
   "source": [
    "stats.ttest_ind(yes_chd['tobacco'], no_chd['tobacco'])"
   ]
  },
  {
   "cell_type": "markdown",
   "id": "dea2cad1",
   "metadata": {},
   "source": [
    "## Famhist"
   ]
  },
  {
   "cell_type": "code",
   "execution_count": 26,
   "id": "1fbceeae",
   "metadata": {},
   "outputs": [],
   "source": [
    "famhist = chd_df[chd_df.famhist == 'Present']"
   ]
  },
  {
   "cell_type": "code",
   "execution_count": 27,
   "id": "3705e347",
   "metadata": {},
   "outputs": [
    {
     "data": {
      "text/plain": [
       "(192, 11)"
      ]
     },
     "execution_count": 27,
     "metadata": {},
     "output_type": "execute_result"
    }
   ],
   "source": [
    "famhist.shape"
   ]
  },
  {
   "cell_type": "code",
   "execution_count": 29,
   "id": "cba469e4",
   "metadata": {},
   "outputs": [
    {
     "data": {
      "text/plain": [
       "1    96\n",
       "0    96\n",
       "Name: chd, dtype: int64"
      ]
     },
     "execution_count": 29,
     "metadata": {},
     "output_type": "execute_result"
    }
   ],
   "source": [
    "famhist.chd.value_counts()"
   ]
  },
  {
   "cell_type": "code",
   "execution_count": 32,
   "id": "7da37a21",
   "metadata": {},
   "outputs": [],
   "source": [
    "no_famhist = chd_df[chd_df.famhist == 'Absent']"
   ]
  },
  {
   "cell_type": "code",
   "execution_count": 34,
   "id": "ae535737",
   "metadata": {},
   "outputs": [
    {
     "data": {
      "text/plain": [
       "(270, 11)"
      ]
     },
     "execution_count": 34,
     "metadata": {},
     "output_type": "execute_result"
    }
   ],
   "source": [
    "no_famhist.shape"
   ]
  },
  {
   "cell_type": "code",
   "execution_count": 35,
   "id": "9c61f3a1",
   "metadata": {},
   "outputs": [
    {
     "data": {
      "text/plain": [
       "0    206\n",
       "1     64\n",
       "Name: chd, dtype: int64"
      ]
     },
     "execution_count": 35,
     "metadata": {},
     "output_type": "execute_result"
    }
   ],
   "source": [
    "no_famhist.chd.value_counts()"
   ]
  },
  {
   "cell_type": "code",
   "execution_count": null,
   "id": "133135b4",
   "metadata": {},
   "outputs": [],
   "source": []
  }
 ],
 "metadata": {
  "kernelspec": {
   "display_name": "Python 3 (ipykernel)",
   "language": "python",
   "name": "python3"
  },
  "language_info": {
   "codemirror_mode": {
    "name": "ipython",
    "version": 3
   },
   "file_extension": ".py",
   "mimetype": "text/x-python",
   "name": "python",
   "nbconvert_exporter": "python",
   "pygments_lexer": "ipython3",
   "version": "3.9.13"
  }
 },
 "nbformat": 4,
 "nbformat_minor": 5
}
